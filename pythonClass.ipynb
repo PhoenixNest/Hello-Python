{
 "cells": [
  {
   "cell_type": "code",
   "execution_count": 1,
   "metadata": {},
   "outputs": [],
   "source": [
    "%config IPComplete.greddy = True"
   ]
  },
  {
   "cell_type": "code",
   "execution_count": 32,
   "metadata": {
    "pycharm": {
     "name": "#%%\n"
    }
   },
   "outputs": [],
   "source": [
    "# 类\n",
    "'''\n",
    "    class className:\n",
    "        '类帮助信息' # 类文档\n",
    "        class_suite # 类体\n",
    "'''\n",
    "# object 表示mFirstClass继承自object类\n",
    "class mFirstClass(object):\n",
    "    '这是mFirstClass类的帮助文档'\n",
    "    \n",
    "    # classCount是类的一个属性，值在类中共享，可使用mFirstClass.classCount进行访问\n",
    "    # 即共有属性\n",
    "    classCount = 0\n",
    "    \n",
    "    # self表示类的实例，self在定义类方法时是必要的，但在调用时为不必传入的参数\n",
    "    # __init__为类的构造函数\n",
    "    def __init__(self,name,schoolName):\n",
    "        self.name = name\n",
    "        self.schoolName = schoolName\n",
    "        mFirstClass.classCount += 1\n",
    "    \n",
    "    def getName(self):\n",
    "        return self.name\n",
    "    \n",
    "    def getSchoolName(self):\n",
    "        return self.schoolName\n",
    "    \n",
    "    def showCount(self):\n",
    "        print(\"Total count % s\" % (mFirstClass.classCount))\n",
    "    \n",
    "    def showMassage(self):\n",
    "        print(\"Name: %s, School: %s\" % (self.name,self.schoolName))"
   ]
  },
  {
   "cell_type": "code",
   "execution_count": 33,
   "metadata": {},
   "outputs": [
    {
     "name": "stdout",
     "output_type": "stream",
     "text": [
      "这是mFirstClass类的帮助文档\n"
     ]
    }
   ],
   "source": [
    "# 类帮助文档的使用\n",
    "print(mFirstClass.__doc__)"
   ]
  },
  {
   "cell_type": "code",
   "execution_count": 34,
   "metadata": {},
   "outputs": [],
   "source": [
    "# 类的实例化\n",
    "mClass1 = mFirstClass(\"name1\",\"school1\")\n",
    "mClass2 = mFirstClass(\"name2\",\"school2\")"
   ]
  },
  {
   "cell_type": "code",
   "execution_count": 35,
   "metadata": {},
   "outputs": [
    {
     "name": "stdout",
     "output_type": "stream",
     "text": [
      "2\n"
     ]
    }
   ],
   "source": [
    "# 访问类的属性\n",
    "print(mFirstClass.classCount)"
   ]
  },
  {
   "cell_type": "code",
   "execution_count": 36,
   "metadata": {},
   "outputs": [
    {
     "name": "stdout",
     "output_type": "stream",
     "text": [
      "Total count 2\n",
      "Total count 2\n",
      "Name: name1, School: school1\n",
      "Name: name2, School: school2\n"
     ]
    }
   ],
   "source": [
    "# 调用类方法\n",
    "mClass1.showCount()\n",
    "mClass2.showCount()\n",
    "\n",
    "mClass1.showMassage()\n",
    "mClass2.showMassage()"
   ]
  },
  {
   "cell_type": "code",
   "execution_count": 41,
   "metadata": {},
   "outputs": [
    {
     "data": {
      "text/plain": [
       "['__class__',\n",
       " '__delattr__',\n",
       " '__dict__',\n",
       " '__dir__',\n",
       " '__doc__',\n",
       " '__eq__',\n",
       " '__format__',\n",
       " '__ge__',\n",
       " '__getattribute__',\n",
       " '__gt__',\n",
       " '__hash__',\n",
       " '__init__',\n",
       " '__init_subclass__',\n",
       " '__le__',\n",
       " '__lt__',\n",
       " '__module__',\n",
       " '__ne__',\n",
       " '__new__',\n",
       " '__reduce__',\n",
       " '__reduce_ex__',\n",
       " '__repr__',\n",
       " '__setattr__',\n",
       " '__sizeof__',\n",
       " '__str__',\n",
       " '__subclasshook__',\n",
       " '__weakref__',\n",
       " 'classCount',\n",
       " 'getName',\n",
       " 'getSchoolName',\n",
       " 'name',\n",
       " 'schoolName',\n",
       " 'showCount',\n",
       " 'showMassage']"
      ]
     },
     "execution_count": 41,
     "metadata": {},
     "output_type": "execute_result"
    }
   ],
   "source": [
    "# Python 获取帮助信息\n",
    "# dir(instance)\n",
    "# 可调用dir来显示对象的所有方法\n",
    "dir(mClass1)"
   ]
  },
  {
   "cell_type": "code",
   "execution_count": 39,
   "metadata": {},
   "outputs": [
    {
     "name": "stdout",
     "output_type": "stream",
     "text": [
      "Help on mFirstClass in module __main__ object:\n",
      "\n",
      "class mFirstClass(builtins.object)\n",
      " |  mFirstClass(name, schoolName)\n",
      " |  \n",
      " |  这是mFirstClass类的帮助文档\n",
      " |  \n",
      " |  Methods defined here:\n",
      " |  \n",
      " |  __init__(self, name, schoolName)\n",
      " |      Initialize self.  See help(type(self)) for accurate signature.\n",
      " |  \n",
      " |  getName(self)\n",
      " |  \n",
      " |  getSchoolName(self)\n",
      " |  \n",
      " |  showCount(self)\n",
      " |  \n",
      " |  showMassage(self)\n",
      " |  \n",
      " |  ----------------------------------------------------------------------\n",
      " |  Data descriptors defined here:\n",
      " |  \n",
      " |  __dict__\n",
      " |      dictionary for instance variables (if defined)\n",
      " |  \n",
      " |  __weakref__\n",
      " |      list of weak references to the object (if defined)\n",
      " |  \n",
      " |  ----------------------------------------------------------------------\n",
      " |  Data and other attributes defined here:\n",
      " |  \n",
      " |  classCount = 2\n",
      "\n"
     ]
    }
   ],
   "source": [
    "# help(instance)\n",
    "# 可调用help查看类的详细信息\n",
    "help(mClass2)"
   ]
  },
  {
   "cell_type": "code",
   "execution_count": null,
   "metadata": {},
   "outputs": [],
   "source": []
  }
 ],
 "metadata": {
  "kernelspec": {
   "display_name": "Python 3",
   "language": "python",
   "name": "python3"
  },
  "language_info": {
   "codemirror_mode": {
    "name": "ipython",
    "version": 3
   },
   "file_extension": ".py",
   "mimetype": "text/x-python",
   "name": "python",
   "nbconvert_exporter": "python",
   "pygments_lexer": "ipython3",
   "version": "3.8.3"
  }
 },
 "nbformat": 4,
 "nbformat_minor": 4
}
