{
 "cells": [
  {
   "cell_type": "code",
   "execution_count": 24,
   "metadata": {},
   "outputs": [],
   "source": [
    "%config IPComplete.greddy=True"
   ]
  },
  {
   "cell_type": "code",
   "execution_count": 25,
   "metadata": {},
   "outputs": [
    {
     "output_type": "stream",
     "name": "stdout",
     "text": [
      "1 <class 'int'>\n2.0 <class 'float'>\nString <class 'str'>\n(1+2j) <class 'complex'>\n(3.14+5.12j) <class 'complex'>\nTrue <class 'bool'>\nFalse <class 'bool'>\n"
     ]
    }
   ],
   "source": [
    "int_i = 1\n",
    "float_f = 2.0\n",
    "str_s = \"String\"\n",
    "\n",
    "print(int_i,type(int_i))\n",
    "print(float_f,type(float_f))\n",
    "print(str_s, type(str_s))\n",
    "\n",
    "# 复数\n",
    "complex_a = 1 + 2j # 实部 + 虚部\n",
    "complex_b = complex(3.14, 5.12) # (实部, 虚部)\n",
    "\n",
    "print(complex_a, type(complex_a))\n",
    "print(complex_b, type(complex_b))\n",
    "\n",
    "# 布尔\n",
    "bool_T = True\n",
    "bool_F = False\n",
    "\n",
    "print(bool_T, type(bool_T))\n",
    "print(bool_F, type(bool_F))"
   ]
  },
  {
   "cell_type": "code",
   "execution_count": 26,
   "metadata": {},
   "outputs": [
    {
     "output_type": "stream",
     "name": "stdout",
     "text": [
      "True\nFalse\n"
     ]
    }
   ],
   "source": [
    "print(True or False)\n",
    "print(False and False)"
   ]
  },
  {
   "cell_type": "code",
   "execution_count": 27,
   "metadata": {},
   "outputs": [
    {
     "output_type": "execute_result",
     "data": {
      "text/plain": [
       "False"
      ]
     },
     "metadata": {},
     "execution_count": 27
    }
   ],
   "source": [
    "not False == True #do not use ! to refrence not\n",
    "15 == True"
   ]
  },
  {
   "cell_type": "code",
   "execution_count": 28,
   "metadata": {},
   "outputs": [
    {
     "output_type": "stream",
     "name": "stdout",
     "text": [
      "Hello World\nHello Python\nHello Anaconda\nThis is the first line...\nThis is the second line...\nThis is the fitst lint...\\nThis is the second line...\n"
     ]
    }
   ],
   "source": [
    "print('''Hello World\n",
    "Hello Python\n",
    "Hello Anaconda''')\n",
    "\n",
    "# 转义字符是“\\”\n",
    "print(\"This is the first line...\\nThis is the second line...\")\n",
    "\n",
    "# 若不想让转义符生效，则可在字符串前添加“r”，表示原始字符串\n",
    "print(r\"This is the fitst lint...\\nThis is the second line...\")"
   ]
  },
  {
   "cell_type": "code",
   "execution_count": 29,
   "metadata": {},
   "outputs": [
    {
     "output_type": "stream",
     "name": "stdout",
     "text": [
      "[1, 2, 3, 4]\n"
     ]
    }
   ],
   "source": [
    "list1 = [1,2,3,4]\n",
    "print(list1)"
   ]
  },
  {
   "cell_type": "code",
   "execution_count": 30,
   "metadata": {},
   "outputs": [
    {
     "output_type": "stream",
     "name": "stdout",
     "text": [
      "2\n4\n"
     ]
    }
   ],
   "source": [
    "print(list1[1])\n",
    "print(list1[-1]) # print the number from right to left"
   ]
  },
  {
   "cell_type": "code",
   "execution_count": 31,
   "metadata": {},
   "outputs": [
    {
     "output_type": "stream",
     "name": "stdout",
     "text": [
      "[1, 2, 3]\n[4, 5]\n"
     ]
    }
   ],
   "source": [
    "# 列表截取\n",
    "list2 = [1,2,3,4,5,6]\n",
    "print(list2[0:3]) # 不包含尾/结束下标的元素，即4\n",
    "print(list2[-3:-1]) # 不包含倒数第一个下标元素，即6"
   ]
  },
  {
   "cell_type": "code",
   "execution_count": 32,
   "metadata": {},
   "outputs": [
    {
     "output_type": "stream",
     "name": "stdout",
     "text": [
      "[1, 3, 5]\n[2, 4, 6]\n"
     ]
    }
   ],
   "source": [
    "# 切片步长\n",
    "list3 = [1,2,3,4,5,6]\n",
    "print(list3[::2]) # 不限制起点与终点下标，每隔2个步长进行打印\n",
    "print(list3[1::2]) # 从起点下标1开始，每隔2个步长进行打印"
   ]
  },
  {
   "cell_type": "code",
   "execution_count": 33,
   "metadata": {},
   "outputs": [
    {
     "output_type": "stream",
     "name": "stdout",
     "text": [
      "(1, 2, 3, 4, 5, 'Hello World', [6, 7, 8, 9], (10, 11)) <class 'tuple'>\n1\n(10, 11)\n('Hello World', [6, 7, 8, 9])\n11\n"
     ]
    }
   ],
   "source": [
    "# Tuple 元组\n",
    "# 元组与列表类似，但元组一旦定义即不能对数据进行修改\n",
    "# 元组写在小括号里，元素之间用逗号隔开\n",
    "# 元组中元素的类型可以不相同，与列表类似。也支持嵌套\n",
    "tuple1 = (1,2,3,4,5,\"Hello World\",[6,7,8,9],(10,11))\n",
    "print(tuple1,type(tuple1))\n",
    "print(tuple1[0])\n",
    "print(tuple1[-1])\n",
    "print(tuple1[5:-1])\n",
    "print(tuple1[-1][-1])"
   ]
  },
  {
   "cell_type": "code",
   "execution_count": 34,
   "metadata": {},
   "outputs": [
    {
     "output_type": "stream",
     "name": "stdout",
     "text": [
      "{1, 2, 3}\nTrue\nFalse\n{1, 2, 3, 4, 5, 6}\n{4}\n{1, 2, 3}\n{1, 2, 3, 5, 6}\n{1, 2, 3, 5, 6}\n"
     ]
    }
   ],
   "source": [
    "# Set 集合\n",
    "# 集合是一个无序的、且不含重复元素的序列\n",
    "# 集合主要用来进行成员关系测试和删除重复元素\n",
    "# 可以使用大括号{}或set()函数创建集合\n",
    "\n",
    "# 自动去重\n",
    "set1 = {1,2,2,3,3,1}\n",
    "print(set1)\n",
    "\n",
    "print(1 in set1) # 判断1是否存在于set1集合中，存在返回True，否则返回Flase\n",
    "print(5 in set1)\n",
    "\n",
    "set2 = {1,2,3,4}\n",
    "set3 = {4,5,6}\n",
    "\n",
    "# 集合的并\n",
    "print(set2 | set3)\n",
    "\n",
    "# 集合的交\n",
    "print(set2 & set3)\n",
    "\n",
    "# 集合的差\n",
    "print(set2 - set3)\n",
    "\n",
    "# 集合的补，在两个集合中不同时存在的元素集合\n",
    "print(set2 ^ set3)\n",
    "\n",
    "# 等同于集合的并 - 集合的补\n",
    "print((set2 | set3) - (set2 & set3))"
   ]
  },
  {
   "cell_type": "code",
   "execution_count": 35,
   "metadata": {},
   "outputs": [
    {
     "output_type": "stream",
     "name": "stdout",
     "text": [
      "175\n{'name': 'zhangsan', 'height': 175, 'weight': 73}\ndict_keys(['name', 'height', 'weight'])\ndict_values(['zhangsan', 175, 73])\nNone\n"
     ]
    }
   ],
   "source": [
    "# Dict 字典\n",
    "# 字典是一种映射，用{}标识，是一个无序的键(key)值(value)对的集合，键必须使用不可变的类型\n",
    "# 在同一个字典中，键的值是唯一的\n",
    "# 在字典中的元素都是通过键来存取\n",
    "dict1 = {\"name\" : \"zhangsan\",\"height\" : 175, \"weight\" : 72}\n",
    "print(dict1[\"height\"]) # 通过键取值\n",
    "\n",
    "dict1[\"weight\"] = 73 # 修改字典数据。若字典中无该数据，则新增；反之覆盖.\n",
    "print(dict1)\n",
    "\n",
    "# 内置函数: clear(), keys(), values()\n",
    "print(dict1.keys()) # 输出键\n",
    "print(dict1.values()) # 输出值\n",
    "print(dict1.clear()) # 清空字典\n",
    "\n",
    "dict2 = {} # 构建空字典"
   ]
  },
  {
   "cell_type": "code",
   "execution_count": 36,
   "metadata": {},
   "outputs": [
    {
     "output_type": "stream",
     "name": "stdout",
     "text": [
      "A\nA\nHello World\n10\n12\n0o12\n14\n0x14\n14\n3.140000\n3.140000e+07\n3.14e+06\n3.14e+10\n"
     ]
    }
   ],
   "source": [
    "# print格式化输出\n",
    "# `%c` 格式化字符及其ASCII码\n",
    "print(\"%c\" % \"A\")\n",
    "print(\"%c\" % 65)\n",
    "\n",
    "# `%s` 格式化字符串\n",
    "print(\"%s\" % \"Hello World\")\n",
    "\n",
    "# `%d` 格式化整数\n",
    "print(\"%d\" % 10)\n",
    "\n",
    "# `%o` 格式化无符号八进制数\n",
    "print(\"%o\" % 10)\n",
    "print(\"%#o\" % 10)\n",
    "\n",
    "# `%x` 格式化无符号十六进制数\n",
    "print(\"%x\" % 20)\n",
    "print(\"%#x\" % 20)\n",
    "print(\"%X\" % 20)\n",
    "\n",
    "# `%f` 格式化浮点数字，可指定小数点后的精度\n",
    "print(\"%f\" % 3.14)\n",
    "\n",
    "# `%e` 用科学计数法格式化浮点数\n",
    "# `%E` 作用同 %e，用科学计数法格式化浮点数\n",
    "print(\"%e\" % 31400000)\n",
    "\n",
    "# `%g`  %f 和 %e 的简写\n",
    "# `%G`  %f 和 %E 的简写\n",
    "print(\"%g\" % 3140000)\n",
    "print(\"%g\" % 31400000955)"
   ]
  },
  {
   "cell_type": "code",
   "execution_count": 37,
   "metadata": {},
   "outputs": [
    {
     "output_type": "stream",
     "name": "stdout",
     "text": [
      "1\n3.14159\n456\n65\nA\n✏\n"
     ]
    }
   ],
   "source": [
    "# 类型转换\n",
    "strNum = \"1\"\n",
    "print(int(strNum))\n",
    "\n",
    "strFloat = \"3.14159\"\n",
    "print(float(strFloat))\n",
    "\n",
    "print(str(456))\n",
    "\n",
    "print(ord(\"A\")) # 转换ASII码\n",
    "\n",
    "print(chr(65)) # 识别ASII码对应的值\n",
    "\n",
    "print(chr(9999))"
   ]
  },
  {
   "cell_type": "code",
   "execution_count": 38,
   "metadata": {},
   "outputs": [
    {
     "output_type": "stream",
     "name": "stdout",
     "text": [
      "(1, 2, 3, 4, 5, 5, 6, 6)\n[1, 2, 3, 4, 5, 5, 6, 6]\n{1, 2, 3, 4, 5, 6}\n(('name', 'zhangsan'), ('height', 172))\n{'name': 'zhangsan', 'height': 172}\n"
     ]
    }
   ],
   "source": [
    "tuple1 = (1,2,3,4,5,5,6,6)\n",
    "print(tuple1)\n",
    "\n",
    "list1 = list(tuple1) # 元组转list\n",
    "print(list1)\n",
    "\n",
    "set1 = set(list1) # list转集合(可起到去重的作用)\n",
    "print(set1)\n",
    "\n",
    "tuple2 = ((\"name\",\"zhangsan\"),(\"height\",172))\n",
    "print(tuple2)\n",
    "\n",
    "dict1 = dict(tuple2) # 元组转字典(当元组以键值对的形式存储时，可杯解析成字典)\n",
    "print(dict1)"
   ]
  },
  {
   "cell_type": "code",
   "execution_count": 39,
   "metadata": {},
   "outputs": [
    {
     "output_type": "stream",
     "name": "stdout",
     "text": [
      "41\n"
     ]
    }
   ],
   "source": [
    "# 方程式计算(超级表达式计算)\n",
    "x = 8\n",
    "calc = \"5*x+1\"\n",
    "\n",
    "print(eval(calc))"
   ]
  },
  {
   "cell_type": "code",
   "execution_count": 40,
   "metadata": {},
   "outputs": [
    {
     "output_type": "stream",
     "name": "stdout",
     "text": [
      "Please input your weight(kg)\n",
      "Please input your height(M)\n",
      "Your BMI is 0.01, To thin\n"
     ]
    }
   ],
   "source": [
    "# 流程控制\n",
    "# if语句\n",
    "print(\"Please input your weight(kg)\")\n",
    "weight = float(input()) # input() - 接收用户输入数据\n",
    "print(\"Please input your height(M)\")\n",
    "height = float(input())\n",
    "# if weight > 90:\n",
    "#     print(weight)\n",
    "    \n",
    "# if else\n",
    "# if weight > 90:\n",
    "#     print(weight)\n",
    "# else:\n",
    "#     print(\"Bye\")\n",
    "\n",
    "# if else if\n",
    "BMI = weight / height**2\n",
    "if BMI < 20:\n",
    "    print(\"Your BMI is %.2f, To thin\" %BMI)\n",
    "elif BMI > 25:\n",
    "    print(\"Your BMI is %.2f, To fat\" %BMI)\n",
    "else:\n",
    "    print(\"Your BMI is %.2f, Well Done\" %BMI)"
   ]
  },
  {
   "cell_type": "code",
   "execution_count": 1,
   "metadata": {},
   "outputs": [
    {
     "output_type": "stream",
     "name": "stdout",
     "text": [
      "Hello World\nHello World\nHello World\nHello World\nHello World\n"
     ]
    }
   ],
   "source": [
    "# 流程控制\n",
    "# while\n",
    "i = 0\n",
    "while i < 5:\n",
    "    print(\"Hello World\")\n",
    "    i += 1"
   ]
  },
  {
   "cell_type": "code",
   "execution_count": 2,
   "metadata": {},
   "outputs": [
    {
     "output_type": "stream",
     "name": "stdout",
     "text": [
      "Current: banana\nCurrent: apple\nCurrent: mango\n----------\nHello World\nHello World\nHello World\nHello World\nHello World\nHello World\nHello World\nHello World\nHello World\nHello World\n"
     ]
    }
   ],
   "source": [
    "# 流程控制\n",
    "# for\n",
    "fruits = ['banana', 'apple','mango']\n",
    "for fruit in fruits:\n",
    "    print('Current:',fruit)\n",
    "\n",
    "print(\"----------\")\n",
    "    \n",
    "# for range\n",
    "for i in range(10):\n",
    "    print(\"Hello World\")"
   ]
  },
  {
   "cell_type": "code",
   "execution_count": 6,
   "metadata": {},
   "outputs": [
    {
     "output_type": "execute_result",
     "data": {
      "text/plain": [
       "[2, 3]"
      ]
     },
     "metadata": {},
     "execution_count": 6
    }
   ],
   "source": [
    "# 列表推导式\n",
    "list1 = [1,2,3]\n",
    "list2 = [3,4,5]\n",
    "\n",
    "# 此处为双层循环\n",
    "# 分别从list1中取出1，2，3，并与ist2的值进行相乘(类似笛卡尔乘积？)\n",
    "[x * y for x in list1 for y in list2]\n",
    "\n",
    "# 数值判断的使用场景，从list1中取出大于1小于4的x值的值\n",
    "[x for x in list1 if 1 < x < 4]"
   ]
  },
  {
   "cell_type": "code",
   "execution_count": 14,
   "metadata": {},
   "outputs": [
    {
     "output_type": "stream",
     "name": "stdout",
     "text": [
      "1 x 1 = 1    \n1 x 2 = 2    2 x 2 = 4    \n1 x 3 = 3    2 x 3 = 6    3 x 3 = 9    \n1 x 4 = 4    2 x 4 = 8    3 x 4 = 12   4 x 4 = 16   \n1 x 5 = 5    2 x 5 = 10   3 x 5 = 15   4 x 5 = 20   5 x 5 = 25   \n1 x 6 = 6    2 x 6 = 12   3 x 6 = 18   4 x 6 = 24   5 x 6 = 30   6 x 6 = 36   \n1 x 7 = 7    2 x 7 = 14   3 x 7 = 21   4 x 7 = 28   5 x 7 = 35   6 x 7 = 42   7 x 7 = 49   \n1 x 8 = 8    2 x 8 = 16   3 x 8 = 24   4 x 8 = 32   5 x 8 = 40   6 x 8 = 48   7 x 8 = 56   8 x 8 = 64   \n1 x 9 = 9    2 x 9 = 18   3 x 9 = 27   4 x 9 = 36   5 x 9 = 45   6 x 9 = 54   7 x 9 = 63   8 x 9 = 72   9 x 9 = 81   \n"
     ]
    }
   ],
   "source": [
    "# 流程控制\n",
    "# 多重循环\n",
    "# 九九乘法表\n",
    "for i in range(1,10):\n",
    "    for j in range(1, i+1):\n",
    "        result = j * i;\n",
    "        # print(result, end=\"\")\n",
    "        print(\"%s x %s = %-5s\" % (j, i , result),end='')\n",
    "    print()"
   ]
  },
  {
   "cell_type": "code",
   "execution_count": 45,
   "metadata": {},
   "outputs": [
    {
     "output_type": "stream",
     "name": "stdout",
     "text": [
      "Next\nNext\ni == 3\nEnd\n"
     ]
    }
   ],
   "source": [
    "# 流程控制\n",
    "# break\n",
    "# 提前结束整个循环\n",
    "i = 0\n",
    "while i < 10:\n",
    "    i += 1\n",
    "    if i == 3:\n",
    "        print(\"i == 3\")\n",
    "        break\n",
    "    print(\"Next\")\n",
    "print(\"End\")"
   ]
  },
  {
   "cell_type": "code",
   "execution_count": 46,
   "metadata": {},
   "outputs": [
    {
     "output_type": "stream",
     "name": "stdout",
     "text": [
      "i == 3\nEnd\n"
     ]
    }
   ],
   "source": [
    "# 流程控制\n",
    "# continue\n",
    "# 跳过当前循环中剩余语句，进入下一循环\n",
    "\n",
    "i = 0\n",
    "while i < 10:\n",
    "    i += 1\n",
    "    if i == 3:\n",
    "        print(\"i == 3\")\n",
    "    continue\n",
    "    print(\"Next\")\n",
    "print(\"End\")"
   ]
  },
  {
   "cell_type": "code",
   "execution_count": 47,
   "metadata": {},
   "outputs": [
    {
     "output_type": "stream",
     "name": "stdout",
     "text": [
      "Next\nNext\nNext\nNext\ni == 5\nNext\nNext\nNext\nNext\nNext\nNext\nEnd\n"
     ]
    }
   ],
   "source": [
    "# 流程控制\n",
    "# pass\n",
    "# 占位，不起实际作用\n",
    "i = 0\n",
    "while i < 10:\n",
    "    i += 1\n",
    "    if i == 3:\n",
    "        pass # pass起到空语句的作用\n",
    "    elif i == 5:\n",
    "        print(\"i == 5\")\n",
    "    print(\"Next\")\n",
    "print(\"End\")"
   ]
  },
  {
   "cell_type": "code",
   "execution_count": null,
   "metadata": {},
   "outputs": [],
   "source": []
  }
 ],
 "metadata": {
  "celltoolbar": "无",
  "kernelspec": {
   "display_name": "Python 3",
   "language": "python",
   "name": "python3"
  },
  "language_info": {
   "codemirror_mode": {
    "name": "ipython",
    "version": 3
   },
   "file_extension": ".py",
   "mimetype": "text/x-python",
   "name": "python",
   "nbconvert_exporter": "python",
   "pygments_lexer": "ipython3",
   "version": "3.8.5"
  }
 },
 "nbformat": 4,
 "nbformat_minor": 4
}