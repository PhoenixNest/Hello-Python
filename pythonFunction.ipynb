{
 "cells": [
  {
   "cell_type": "code",
   "execution_count": 1,
   "metadata": {},
   "outputs": [],
   "source": [
    "%config IPComplete.greddy = True"
   ]
  },
  {
   "cell_type": "code",
   "execution_count": 24,
   "metadata": {},
   "outputs": [],
   "source": [
    "# 函数\n",
    "'''\n",
    "    def functinoName(parameters):\n",
    "        \"函数帮助信息\"\n",
    "        functino_suite # 函数体\n",
    "        return [expression] # 返回值\n",
    "'''\n",
    "# Python的函数无需定义返回值类型\n",
    "# 此处定一个求阶乘!的函数\n",
    "def fact(n):\n",
    "    \"basic_use\"\n",
    "    result = 1\n",
    "    for i in range(1, n+1):\n",
    "        result *= i\n",
    "    return result"
   ]
  },
  {
   "cell_type": "code",
   "execution_count": 26,
   "metadata": {},
   "outputs": [
    {
     "name": "stdout",
     "output_type": "stream",
     "text": [
      "120\n"
     ]
    },
    {
     "data": {
      "text/plain": [
       "'basic_use'"
      ]
     },
     "execution_count": 26,
     "metadata": {},
     "output_type": "execute_result"
    }
   ],
   "source": [
    "# 调用上述fact函数\n",
    "result = fact(5)\n",
    "print(result)\n",
    "\n",
    "# 打印函数帮助信息\n",
    "fact.__doc__"
   ]
  },
  {
   "cell_type": "code",
   "execution_count": 2,
   "metadata": {},
   "outputs": [],
   "source": [
    "# 返回多个值(即返回一个元组)\n",
    "def fun_test(mList,mint=0,mString=\"Default String\"):\n",
    "    mList.append(\"New Item\")\n",
    "    mint += 1\n",
    "    return mList, mint, mString"
   ]
  },
  {
   "cell_type": "code",
   "execution_count": 3,
   "metadata": {},
   "outputs": [
    {
     "output_type": "stream",
     "name": "stdout",
     "text": [
      "([1, 2, 3, 'New Item'], 11, 'Default String')\n[1, 2, 3, 'New Item']\n----------\n[1, 2, 3, 'New Item', 'New Item']\n11\nDefault String\n"
     ]
    }
   ],
   "source": [
    "mTestList = [1,2,3]\n",
    "mTestInt = 10\n",
    "print(fun_test(mTestList,mTestInt))\n",
    "print(mTestList)\n",
    "\n",
    "print(\"----------\")\n",
    "\n",
    "# 对返回的元组进行拆包，取出相应值\n",
    "returnV1, rerutnV2, returnV3 = fun_test(mTestList,mTestInt)\n",
    "\n",
    "print(returnV1)\n",
    "print(rerutnV2)\n",
    "print(returnV3)"
   ]
  },
  {
   "cell_type": "code",
   "execution_count": 17,
   "metadata": {},
   "outputs": [
    {
     "name": "stdout",
     "output_type": "stream",
     "text": [
      "321\n",
      "123\n"
     ]
    }
   ],
   "source": [
    "number = 123\n",
    "def fun():\n",
    "    number = 321\n",
    "    print(number)\n",
    "\n",
    "fun()\n",
    "print(number)"
   ]
  },
  {
   "cell_type": "code",
   "execution_count": 1,
   "metadata": {
    "pycharm": {
     "name": "#%%\n"
    }
   },
   "outputs": [
    {
     "name": "stdout",
     "output_type": "stream",
     "text": [
      "654\n",
      "654\n"
     ]
    }
   ],
   "source": [
    "number = 456\n",
    "def funGlobal():\n",
    "    global number # global 局部变量全局化，以达修改全局变量\n",
    "    number = 654\n",
    "    print(number)\n",
    "    \n",
    "funGlobal()\n",
    "print(number)"
   ]
  },
  {
   "cell_type": "code",
   "execution_count": null,
   "metadata": {},
   "outputs": [],
   "source": []
  }
 ],
 "metadata": {
  "kernelspec": {
   "display_name": "Python 3",
   "language": "python",
   "name": "python3"
  },
  "language_info": {
   "codemirror_mode": {
    "name": "ipython",
    "version": 3
   },
   "file_extension": ".py",
   "mimetype": "text/x-python",
   "name": "python",
   "nbconvert_exporter": "python",
   "pygments_lexer": "ipython3",
   "version": "3.8.5"
  }
 },
 "nbformat": 4,
 "nbformat_minor": 4
}