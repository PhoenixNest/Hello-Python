{
 "cells": [
  {
   "cell_type": "code",
   "execution_count": 1,
   "metadata": {},
   "outputs": [],
   "source": [
    "%config IPComplete.greddy=True"
   ]
  },
  {
   "cell_type": "code",
   "execution_count": 6,
   "metadata": {},
   "outputs": [],
   "source": [
    "# 异常\n",
    "# try catch在Python中为try except\n",
    "def except_funtion():\n",
    "    try:\n",
    "        # 1.故意产生异常\n",
    "        # 10 / 0\n",
    "        # 2.正常操作\n",
    "        10 / 1\n",
    "    except ZeroDivisionError:\n",
    "        # Python有许多异常，但无法一一进行处理，若可以预先判定异常则最好，或使用通用异常反馈结果\n",
    "        print(\"System Error\")\n",
    "    except :\n",
    "        # 通用异常反馈\n",
    "        print(\"System Error\")\n",
    "    else:\n",
    "        # 正常情况\n",
    "        print(\"System all green\")\n",
    "        pass\n",
    "    finally:\n",
    "        # 无论是否发生异常都会执行finally中的代码\n",
    "        print(\"We got finally\")"
   ]
  },
  {
   "cell_type": "code",
   "execution_count": 7,
   "metadata": {},
   "outputs": [
    {
     "name": "stdout",
     "output_type": "stream",
     "text": [
      "System all green\n",
      "We got finally\n"
     ]
    }
   ],
   "source": [
    "except_funtion()"
   ]
  },
  {
   "cell_type": "code",
   "execution_count": null,
   "metadata": {},
   "outputs": [],
   "source": []
  }
 ],
 "metadata": {
  "kernelspec": {
   "display_name": "Python 3",
   "language": "python",
   "name": "python3"
  },
  "language_info": {
   "codemirror_mode": {
    "name": "ipython",
    "version": 3
   },
   "file_extension": ".py",
   "mimetype": "text/x-python",
   "name": "python",
   "nbconvert_exporter": "python",
   "pygments_lexer": "ipython3",
   "version": "3.8.3"
  }
 },
 "nbformat": 4,
 "nbformat_minor": 4
}