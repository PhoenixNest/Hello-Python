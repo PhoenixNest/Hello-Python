{
 "cells": [
  {
   "cell_type": "code",
   "execution_count": 1,
   "metadata": {},
   "outputs": [],
   "source": [
    "%config IPComplete.greddy=True"
   ]
  },
  {
   "cell_type": "code",
   "execution_count": 2,
   "metadata": {},
   "outputs": [],
   "source": [
    "# Python 文件操作\n",
    "# 文件写入\n",
    "# 第一个参数为待写入文件的地址，若文件存在即写入文件，不存在则新建文件后写入\n",
    "# \"wt\"为写入模式，write type\n",
    "with open (\"testFiles/test.txt\", \"wt\") as out_file:\n",
    "    out_file.write(\"This is a new text\")"
   ]
  },
  {
   "cell_type": "code",
   "execution_count": 5,
   "metadata": {},
   "outputs": [
    {
     "name": "stdout",
     "output_type": "stream",
     "text": [
      "This is a new text\n"
     ]
    }
   ],
   "source": [
    "# Python 文件操作\n",
    "# 文件读取\n",
    "# 第一个参数为读取文件地址，若文件存在即读取文件内容，若文件不存在则报错\n",
    "# \"rt\"为读取模式，read type\n",
    "# 调用read方法对文件进行读取\n",
    "with open(\"testFiles/test.txt\", \"rt\") as in_file:\n",
    "    text = in_file.read()\n",
    "\n",
    "print(text)"
   ]
  },
  {
   "cell_type": "code",
   "execution_count": null,
   "metadata": {},
   "outputs": [],
   "source": []
  }
 ],
 "metadata": {
  "kernelspec": {
   "display_name": "Python 3",
   "language": "python",
   "name": "python3"
  },
  "language_info": {
   "codemirror_mode": {
    "name": "ipython",
    "version": 3
   },
   "file_extension": ".py",
   "mimetype": "text/x-python",
   "name": "python",
   "nbconvert_exporter": "python",
   "pygments_lexer": "ipython3",
   "version": "3.8.3"
  }
 },
 "nbformat": 4,
 "nbformat_minor": 4
}